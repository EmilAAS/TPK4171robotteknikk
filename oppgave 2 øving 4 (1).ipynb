{
 "cells": [
  {
   "cell_type": "code",
   "execution_count": 4,
   "id": "193b0d30",
   "metadata": {},
   "outputs": [
    {
     "name": "stdout",
     "output_type": "stream",
     "text": [
      "H from least square \n",
      " [[1.000000000 -0.000000000 -0.000000000]\n",
      " [-1.000000000 1.000000000 0.000000000]\n",
      " [1.000000000 -0.000000000 1.000000000]] \n",
      "\n",
      "\n",
      " A matrix is found from H: \n",
      " [[1.000000000 -1.000000000]\n",
      " [-0.000000000 1.000000000]]\n",
      "\n",
      " R from polar decomposition \n",
      " [[0.894427191 -0.447213595]\n",
      " [0.447213595 0.894427191]]\n",
      "\n",
      " P matrix : \n",
      " [[0.894427191 -0.447213595]\n",
      " [-0.447213595 1.341640786]]\n",
      "\n",
      " rotation angle is  26.56505117707795\n"
     ]
    }
   ],
   "source": [
    "import numpy as np\n",
    "\n",
    "#task 2a\n",
    "np.set_printoptions(formatter={'float': '{:0.9f}'.format})\n",
    "x = np.array([[0, 0, 1],\n",
    "              [1, 0, 1],\n",
    "              [1, 1, 1],\n",
    "              [0, 1, 1]])\n",
    "\n",
    "xp = np.array([[1, 0, 1], \n",
    "               [2, 0, 1], \n",
    "               [1, 1, 1],\n",
    "               [0, 1, 1]])\n",
    "H = np.linalg.lstsq(x, xp, rcond=1)\n",
    "H = H[0]\n",
    "print(\"H from least square \\n\", H, \"\\n\")\n",
    "\n",
    "A = H[:2, :2].T\n",
    "U,S,V = np.linalg.svd(A)\n",
    "print(\"\\n A matrix is found from H: \\n\", A)\n",
    "\n",
    "#task 2B:\n",
    "R = U @ V.T\n",
    "\n",
    "\n",
    "print(\"\\n R from polar decomposition \\n\", R)\n",
    "P = np.linalg.inv(R) @ A\n",
    "print(\"\\n P matrix : \\n\", P)\n",
    "angle = np.arccos(R[0, 0])\n",
    "print(\"\\n rotation angle is \", np.degrees(angle))\n"
   ]
  },
  {
   "cell_type": "code",
   "execution_count": null,
   "id": "53ecda5d",
   "metadata": {},
   "outputs": [],
   "source": []
  },
  {
   "cell_type": "code",
   "execution_count": null,
   "id": "488999f9",
   "metadata": {},
   "outputs": [],
   "source": []
  }
 ],
 "metadata": {
  "kernelspec": {
   "display_name": "Python 3",
   "language": "python",
   "name": "python3"
  },
  "language_info": {
   "codemirror_mode": {
    "name": "ipython",
    "version": 3
   },
   "file_extension": ".py",
   "mimetype": "text/x-python",
   "name": "python",
   "nbconvert_exporter": "python",
   "pygments_lexer": "ipython3",
   "version": "3.8.8"
  }
 },
 "nbformat": 4,
 "nbformat_minor": 5
}
