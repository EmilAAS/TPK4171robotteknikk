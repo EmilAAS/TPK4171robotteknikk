{
 "cells": [
  {
   "cell_type": "code",
   "execution_count": 1,
   "id": "9335e2f2",
   "metadata": {},
   "outputs": [
    {
     "data": {
      "text/plain": [
       "matrix([[ 1.       ,  0.       ,  0.       ],\n",
       "        [ 0.       ,  0.8660254, -0.5      ],\n",
       "        [ 0.       ,  0.5      ,  0.8660254]])"
      ]
     },
     "execution_count": 1,
     "metadata": {},
     "output_type": "execute_result"
    }
   ],
   "source": [
    "import numpy as np\n",
    "def rotx(theta):\n",
    "    Rx = np.matrix([[1, 0, 0],\n",
    "                   [0, np.cos(theta), -np.sin(theta)],\n",
    "                   [0, np.sin(theta), np.cos(theta)]])\n",
    "    return Rx\n",
    "R = rotx(np.pi/6)\n",
    "R"
   ]
  },
  {
   "cell_type": "code",
   "execution_count": 98,
   "id": "a0ce726e",
   "metadata": {},
   "outputs": [
    {
     "data": {
      "text/plain": [
       "matrix([[ 1.       ,  0.       ,  0.       ,  0.       ],\n",
       "        [ 0.       ,  0.8660254, -0.5      ,  0.       ],\n",
       "        [ 0.       ,  0.5      ,  0.8660254,  1.       ],\n",
       "        [ 0.       ,  0.       ,  0.       ,  1.       ]])"
      ]
     },
     "execution_count": 98,
     "metadata": {},
     "output_type": "execute_result"
    }
   ],
   "source": [
    "def trans(R, t):\n",
    "    return np.block([[R, t.reshape(3,1)],\n",
    "                     [np.array([0, 0, 0, 1])]])\n",
    "tco = np.array([0, 0, 1])\n",
    "T = trans(R, tco)\n",
    "T"
   ]
  },
  {
   "cell_type": "code",
   "execution_count": 86,
   "id": "be602275",
   "metadata": {},
   "outputs": [
    {
     "name": "stdout",
     "output_type": "stream",
     "text": [
      "point p in camera frame \n",
      " [ 0.        -0.5        1.8660254]\n"
     ]
    }
   ],
   "source": [
    "#point p in camera frame\n",
    "ro = np.array([0, 0, 1])\n",
    "rop_tilde = np.block([ro, 1]) \n",
    "rcp = np.dot(T, rop_tilde)\n",
    "rcp_1d = np.ravel(rcp[:, :3])\n",
    "print(\"point p in camera frame \\n\", rcp_1d)"
   ]
  },
  {
   "cell_type": "code",
   "execution_count": 90,
   "id": "6a8cc1af",
   "metadata": {},
   "outputs": [
    {
     "name": "stdout",
     "output_type": "stream",
     "text": [
      "normalized image coordinates: \n",
      " [ 0.         -0.26794919  1.        ]\n"
     ]
    }
   ],
   "source": [
    "#normalized image coordinates:\n",
    "def norm_image_coord(r):\n",
    "    return np.array([r[0]/r[2], r[1]/r[2], 1])\n",
    "s = norm_image_coord(rcp_1d)\n",
    "print(\"normalized image coordinates: \\n\", s)"
   ]
  },
  {
   "cell_type": "code",
   "execution_count": 97,
   "id": "aa9672a1",
   "metadata": {},
   "outputs": [
    {
     "name": "stdout",
     "output_type": "stream",
     "text": [
      "pixel coordiniates: \n",
      " [640.         110.07621135   1.        ]\n"
     ]
    }
   ],
   "source": [
    "#pixel coordinates:\n",
    "K = np.matrix([[1500, 0, 640], \n",
    "               [0, 1500, 512], \n",
    "               [0, 0, 1]])\n",
    "p = np.dot(K, s)\n",
    "p = np.ravel(p)\n",
    "print(\"pixel coordiniates: \\n\", p)\n"
   ]
  }
 ],
 "metadata": {
  "kernelspec": {
   "display_name": "Python 3",
   "language": "python",
   "name": "python3"
  },
  "language_info": {
   "codemirror_mode": {
    "name": "ipython",
    "version": 3
   },
   "file_extension": ".py",
   "mimetype": "text/x-python",
   "name": "python",
   "nbconvert_exporter": "python",
   "pygments_lexer": "ipython3",
   "version": "3.8.8"
  }
 },
 "nbformat": 4,
 "nbformat_minor": 5
}
